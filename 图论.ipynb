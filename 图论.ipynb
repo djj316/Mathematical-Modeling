{
 "cells": [
  {
   "cell_type": "code",
   "execution_count": null,
   "id": "a28935b9-782d-4f42-95c5-9d28efd6e51a",
   "metadata": {},
   "outputs": [],
   "source": [
    "题目目录（覆盖常见图论模型）\n",
    "题号\t类型\t题目名称\n",
    "1\t最短路径（单源）\t城市最短送货路径\n",
    "2\t最短路径（多源）\t所有城市之间最短通路\n",
    "3\t最小生成树\t电网建设成本最小化\n",
    "4\t拓扑排序（DAG）\t项目任务安排顺序\n",
    "5\t连通分量\t网络中断检测\n",
    "6\t网络最大流\t河道最大运水量\n",
    "7\t二分图匹配\t工作岗位分配\n",
    "8\t图的着色（染色问题）\t会议安排冲突检测\n",
    "9\tEuler 回路 / Hamilton 回路\t回收路线设计\n",
    "10\t强连通分量\t网站相互可达性分析"
   ]
  },
  {
   "cell_type": "code",
   "execution_count": null,
   "id": "8f0d2ef7-9728-4356-84a5-aff5e274595c",
   "metadata": {},
   "outputs": [],
   "source": [
    "1. 最短路径（单源）\n",
    "🧾 题目：城市送货路径优化\n",
    "某物流公司要从城市 A 向其他城市发货，道路为双向通行，每条路有运输时间，求 A 到所有城市的最短路径。\n",
    "A - B (2)\n",
    "A - C (5)\n",
    "B - C (1)\n",
    "B - D (3)\n",
    "C - D (2)\n",
    "D - E (1)\n"
   ]
  },
  {
   "cell_type": "code",
   "execution_count": 14,
   "id": "524879ae-4bfe-43ae-811b-3c4f5ed41a56",
   "metadata": {},
   "outputs": [
    {
     "data": {
      "text/plain": [
       "({'A': ['A'],\n",
       "  'B': ['A', 'B'],\n",
       "  'C': ['A', 'B', 'C'],\n",
       "  'D': ['A', 'B', 'D'],\n",
       "  'E': ['A', 'B', 'D', 'E']},\n",
       " {'A': 0, 'B': 2, 'C': 3, 'D': 5, 'E': 6})"
      ]
     },
     "execution_count": 14,
     "metadata": {},
     "output_type": "execute_result"
    }
   ],
   "source": [
    "import networkx as nx#调用图论库\n",
    "G = nx.Graph()#建立无向图\n",
    "l = [\n",
    "    ('A', 'B', 2),#起点，终点，权重\n",
    "    ('A', 'C', 5),\n",
    "    ('B', 'C', 1),\n",
    "    ('B', 'D', 3),\n",
    "    ('C', 'D', 2),\n",
    "    ('D', 'E', 1),\n",
    "]#构建边\n",
    "\n",
    "G.add_weighted_edges_from(l)#构建图\n",
    "\n",
    "# 求最短路径\n",
    "path = nx.shortest_path(G,'A',weight='weight')#路径(传入参数为：图，起点，终点，权重)，如果不指定weight默认为1\n",
    "length = nx.shortest_path_length(G,'A',weight='weight')#路径长度\n",
    "\n",
    "path,length\n"
   ]
  },
  {
   "cell_type": "code",
   "execution_count": null,
   "id": "d19a3f9a-0f1f-450d-a24d-e50f535fb1d2",
   "metadata": {},
   "outputs": [],
   "source": [
    "✅ 2. 最短路径（多源）\n",
    "题目名称：所有城市之间最短通路\n",
    "背景： 政府要评估城市间通行效率，边表示路程，求任意两个城市间最短距离\n",
    "\n",
    "A - B (3)\n",
    "A - C (1)\n",
    "B - C (7)\n",
    "B - D (5)\n",
    "C - D (2)\n",
    "D - E (1)\n"
   ]
  },
  {
   "cell_type": "code",
   "execution_count": 24,
   "id": "294b15a2-6671-4c1d-a9b6-2aaf68091fe5",
   "metadata": {},
   "outputs": [
    {
     "name": "stdout",
     "output_type": "stream",
     "text": [
      "A → A: 0\n",
      "A → B: 3\n",
      "A → C: 1\n",
      "A → D: 3\n",
      "A → E: 4\n",
      "B → B: 0\n",
      "B → A: 3\n",
      "B → C: 4\n",
      "B → D: 5\n",
      "B → E: 6\n",
      "C → C: 0\n",
      "C → A: 1\n",
      "C → B: 4\n",
      "C → D: 2\n",
      "C → E: 3\n",
      "D → D: 0\n",
      "D → B: 5\n",
      "D → C: 2\n",
      "D → E: 1\n",
      "D → A: 3\n",
      "E → E: 0\n",
      "E → D: 1\n",
      "E → A: 4\n",
      "E → B: 6\n",
      "E → C: 3\n"
     ]
    }
   ],
   "source": [
    "G=nx.Graph()\n",
    "l=[('A','B',3),('A','C',1),('B','C',7),('B','D',5),('C','D',2),('D','E',1)]\n",
    "G.add_weighted_edges_from(l)\n",
    "d=nx.floyd_warshall(G)#生成floyd的最小距离矩阵\n",
    "for u in d:\n",
    "    for v in d[u]:\n",
    "        print(f\"{u} → {v}: {d[u][v]}\")\n",
    "#依次遍历两个节点间的最短距离"
   ]
  },
  {
   "cell_type": "code",
   "execution_count": null,
   "id": "7b99f10b-eb77-4551-9ecb-945ace2e8b21",
   "metadata": {},
   "outputs": [],
   "source": [
    "✅ 3. 最小生成树\n",
    "题目名称：电网建设成本最小化\n",
    "背景： 城市间建电缆，边表示成本，求连接所有城市的最小花费。\n",
    "\n",
    "A - B (4)\n",
    "A - C (1)\n",
    "B - C (2)\n",
    "B - D (5)\n",
    "C - D (8)\n",
    "D - E (3)\n"
   ]
  },
  {
   "cell_type": "code",
   "execution_count": 31,
   "id": "28fe4da1-4c69-4050-bfe6-4ebd54ffb149",
   "metadata": {},
   "outputs": [
    {
     "name": "stdout",
     "output_type": "stream",
     "text": [
      "A->C,1\n",
      "B->C,2\n",
      "B->D,5\n",
      "D->E,3\n"
     ]
    },
    {
     "data": {
      "text/plain": [
       "11"
      ]
     },
     "execution_count": 31,
     "metadata": {},
     "output_type": "execute_result"
    }
   ],
   "source": [
    "G=nx.Graph()\n",
    "l=[('A','B',4),('A','C',1),('B','C',2),('B','D',5),('C','D',8),('D','E',3)]\n",
    "G.add_weighted_edges_from(l)\n",
    "d=nx.minimum_spanning_tree(G)#调用求解最小生成树\n",
    "for u,v,w in d.edges(data='weight'):\n",
    "    print(f\"{u}->{v},{w}\")\n",
    "#给出最小生成树每一条边\n",
    "sum(w for u,v,w in d.edges(data='weight'))#求出最小生成树大小"
   ]
  },
  {
   "cell_type": "code",
   "execution_count": null,
   "id": "18e2f8af-1df4-4ca4-b111-16c504710a50",
   "metadata": {},
   "outputs": [],
   "source": [
    "4. 拓扑排序（DAG）\n",
    "题目名称：项目任务安排顺序\n",
    "背景： 项目任务有前后依赖关系，边表示“先做哪个”，求可行的完成顺序。\n",
    "调研 → 设计 → 编码 → 测试 → 发布\n",
    "调研 → 采购硬件 → 安装设备\n"
   ]
  },
  {
   "cell_type": "code",
   "execution_count": 32,
   "id": "81feb818-587d-4319-b98d-c854ef72915e",
   "metadata": {},
   "outputs": [
    {
     "name": "stdout",
     "output_type": "stream",
     "text": [
      "项目完成顺序: ['调研', '设计', '采购硬件', '编码', '安装设备', '测试', '发布']\n"
     ]
    }
   ],
   "source": [
    "G = nx.DiGraph()\n",
    "edges = [('调研', '设计'), ('设计', '编码'), ('编码', '测试'), ('测试', '发布'),\n",
    "         ('调研', '采购硬件'), ('采购硬件', '安装设备')]\n",
    "G.add_edges_from(edges)\n",
    "order = list(nx.topological_sort(G))\n",
    "print(\"项目完成顺序:\", order)\n"
   ]
  },
  {
   "cell_type": "code",
   "execution_count": null,
   "id": "b42d20d2-2e1c-430e-9da8-11b5b84945b3",
   "metadata": {},
   "outputs": [],
   "source": [
    "5. 连通分量(并查集)\n",
    "题目名称：网络中断检测\n",
    "背景： 网络节点之间有连接，检测因中断导致的孤立子网络（连通块）。\n",
    "组件1: 1 - 2 - 3  \n",
    "组件2: 4 - 5  \n",
    "组件3: 6\n"
   ]
  },
  {
   "cell_type": "code",
   "execution_count": 33,
   "id": "c580bda9-6ecb-41f3-bbfe-8071c34d0d5f",
   "metadata": {},
   "outputs": [
    {
     "name": "stdout",
     "output_type": "stream",
     "text": [
      "连通分量:\n",
      "第1个网络: {1, 2, 3}\n",
      "第2个网络: {4, 5}\n",
      "第3个网络: {6}\n"
     ]
    }
   ],
   "source": [
    "G = nx.Graph()\n",
    "edges = [(1, 2), (2, 3), (4, 5)]\n",
    "G.add_edges_from(edges)\n",
    "G.add_node(6)  # 增加一个孤立点\n",
    "\n",
    "components = list(nx.connected_components(G))\n",
    "print(\"连通分量:\")\n",
    "for i, comp in enumerate(components, 1):\n",
    "    print(f\"第{i}个网络: {comp}\")\n"
   ]
  },
  {
   "cell_type": "code",
   "execution_count": null,
   "id": "392a32d9-3839-4c40-8fa2-2f61096ad956",
   "metadata": {},
   "outputs": [],
   "source": [
    "6. 网络最大流\n",
    "题目名称：河道最大运水量\n",
    "背景： 给定水渠容量图，求从源点 S 到汇点 T 的最大流量。\n",
    "S → A (10), S → B (5)\n",
    "A → B (15), A → C (10)\n",
    "B → D (10)\n",
    "C → T (10)\n",
    "D → T (10)\n"
   ]
  },
  {
   "cell_type": "code",
   "execution_count": 36,
   "id": "aacbf708-3c33-48c7-98e2-4b813785da3e",
   "metadata": {},
   "outputs": [
    {
     "name": "stdout",
     "output_type": "stream",
     "text": [
      "最大水流量: 15\n"
     ]
    }
   ],
   "source": [
    "G = nx.DiGraph()\n",
    "edges = [('S', 'A', 10), ('S', 'B', 5), ('A', 'B', 15),\n",
    "         ('A', 'C', 10), ('B', 'D', 10), ('C', 'T', 10), ('D', 'T', 10)]\n",
    "G.add_edges_from((u, v, {'capacity': c}) for u, v, c in edges)#给每一条边设置一个流量上限c\n",
    "flow_value,flow_dict=nx.maximum_flow(G, 'S', 'T')\n",
    "print(\"最大水流量:\", flow_value)\n"
   ]
  },
  {
   "cell_type": "code",
   "execution_count": null,
   "id": "a99b3765-7ab6-4f04-9ab4-0c223436c7be",
   "metadata": {},
   "outputs": [],
   "source": [
    "7. 二分图匹配\n",
    "题目名称：工作岗位分配\n",
    "背景： 有员工和岗位的适配关系，求最多人匹配上合适岗位。\n",
    "员工: A, B, C\n",
    "岗位: 1, 2, 3\n",
    "\n",
    "匹配边:\n",
    "A - 1  \n",
    "A - 2  \n",
    "B - 1  \n",
    "C - 3\n"
   ]
  },
  {
   "cell_type": "code",
   "execution_count": 41,
   "id": "11d41a40-c93a-4097-bafd-ad6c0102470f",
   "metadata": {},
   "outputs": [
    {
     "name": "stdout",
     "output_type": "stream",
     "text": [
      "最大匹配:\n",
      "3 → C\n",
      "1 → B\n",
      "2 → A\n"
     ]
    }
   ],
   "source": [
    "import networkx as nx\n",
    "\n",
    "# 创建图\n",
    "G = nx.Graph()\n",
    "edges = [('A', '1'), ('A', '2'), ('B', '1'), ('C', '3')]\n",
    "G.add_edges_from(edges)\n",
    "\n",
    "# 确保图是二分图\n",
    "# 使用 bipartite 库将图划分为两个集合\n",
    "left_nodes = {'A', 'B', 'C'}  # 左集合\n",
    "right_nodes = {'1', '2', '3'}  # 右集合\n",
    "\n",
    "# 计算最大匹配\n",
    "matching = nx.bipartite.maximum_matching(G, top_nodes=left_nodes)\n",
    "\n",
    "# 打印匹配结果\n",
    "print(\"最大匹配:\")\n",
    "for u, v in matching.items():\n",
    "    if u < v:  # 避免重复打印\n",
    "        print(f\"{u} → {v}\")\n"
   ]
  },
  {
   "cell_type": "code",
   "execution_count": null,
   "id": "0f5c9478-0a33-4169-a9d0-4f8d48fe0aa3",
   "metadata": {},
   "outputs": [],
   "source": [
    "8. 图的着色（染色问题）\n",
    "题目名称：会议安排冲突检测\n",
    "背景： 有冲突的会议不能同一时间开，求最少使用多少个会议室。\n",
    "会议冲突图（边表示冲突）：\n",
    "1 - 2, 1 - 3, 2 - 4, 3 - 4\n"
   ]
  },
  {
   "cell_type": "code",
   "execution_count": 38,
   "id": "6782a9db-496b-4040-8025-e01310189b29",
   "metadata": {},
   "outputs": [
    {
     "name": "stdout",
     "output_type": "stream",
     "text": [
      "会议室安排（颜色表示会议室）:\n",
      "{1: 0, 2: 1, 3: 1, 4: 0}\n"
     ]
    }
   ],
   "source": [
    "G = nx.Graph()\n",
    "edges = [(1, 2), (1, 3), (2, 4), (3, 4)]\n",
    "G.add_edges_from(edges)\n",
    "\n",
    "coloring = nx.coloring.greedy_color(G, strategy='largest_first')\n",
    "print(\"会议室安排（颜色表示会议室）:\")\n",
    "print(coloring)\n"
   ]
  },
  {
   "cell_type": "code",
   "execution_count": null,
   "id": "c8ae804c-6fc1-453d-a853-130b270e301c",
   "metadata": {},
   "outputs": [],
   "source": [
    "9. Euler 回路 / Hamilton 回路\n",
    "题目名称：回收路线设计\n",
    "背景： 清洁车要遍历所有道路（Euler 回路）或所有城市一次（Hamilton 回路）。\n",
    "A - B - C - D - A（四边形）\n"
   ]
  },
  {
   "cell_type": "code",
   "execution_count": 39,
   "id": "288b9ca8-d1ec-413e-9dbe-6df24978337f",
   "metadata": {},
   "outputs": [
    {
     "name": "stdout",
     "output_type": "stream",
     "text": [
      "Euler 回路路径:\n",
      "[('A', 'D'), ('D', 'C'), ('C', 'B'), ('B', 'A')]\n"
     ]
    }
   ],
   "source": [
    "G = nx.Graph()\n",
    "edges = [('A', 'B'), ('B', 'C'), ('C', 'D'), ('D', 'A')]\n",
    "G.add_edges_from(edges)\n",
    "\n",
    "if nx.is_eulerian(G):\n",
    "    cycle = list(nx.eulerian_circuit(G))\n",
    "    print(\"Euler 回路路径:\")\n",
    "    print(cycle)\n",
    "else:\n",
    "    print(\"图不是 Euler 图\")\n"
   ]
  },
  {
   "cell_type": "code",
   "execution_count": null,
   "id": "214bc515-dbaa-4ba2-8606-071bea55a0d2",
   "metadata": {},
   "outputs": [],
   "source": [
    "10. 强连通分量（SCC）\n",
    "题目名称：网站相互可达性分析\n",
    "背景： 网站间互相跳转，求哪些网站之间可以互达（强连通子图）。\n",
    "A → B → C → A（互相可达）\n",
    "C → D（不可返回）\n",
    "D → E → D（互相可达）\n"
   ]
  },
  {
   "cell_type": "code",
   "execution_count": 40,
   "id": "14634804-199d-4534-b8a9-e4d566ee40ca",
   "metadata": {},
   "outputs": [
    {
     "name": "stdout",
     "output_type": "stream",
     "text": [
      "强连通分量:\n",
      "第1组: {'D', 'E'}\n",
      "第2组: {'B', 'C', 'A'}\n"
     ]
    }
   ],
   "source": [
    "G = nx.DiGraph()\n",
    "edges = [('A', 'B'), ('B', 'C'), ('C', 'A'),\n",
    "         ('C', 'D'), ('D', 'E'), ('E', 'D')]\n",
    "G.add_edges_from(edges)\n",
    "\n",
    "scc = list(nx.strongly_connected_components(G))\n",
    "print(\"强连通分量:\")\n",
    "for i, comp in enumerate(scc, 1):\n",
    "    print(f\"第{i}组: {comp}\")\n"
   ]
  },
  {
   "cell_type": "code",
   "execution_count": null,
   "id": "7e99b668-aae7-45db-bb82-e1abe23a6282",
   "metadata": {},
   "outputs": [],
   "source": [
    "11.最小费用流\n",
    "假设你是一个物流公司负责人，你需要设计一条运输路线，使得从仓库（源点）到分配中心（汇点）运输一定数量的货物，并且最小化运输的总费用。以下是一个运输网络：\n",
    "\n",
    "仓库（源点：S）到城市A的容量为 10，费用为 4。\n",
    "\n",
    "仓库（源点：S）到城市B的容量为 8，费用为 6。\n",
    "\n",
    "城市A到城市B的容量为 5，费用为 2。\n",
    "\n",
    "城市A到城市C的容量为 7，费用为 3。\n",
    "\n",
    "城市B到城市C的容量为 10，费用为 1。\n",
    "\n",
    "城市C到分配中心（汇点：T）的容量为 10，费用为 5。\n",
    "\n",
    "你的目标是设计最优的运输路线，运输的总流量为 10 单位流量，从仓库 S 到分配中心 T，并且使运输的总费用最小。\n",
    "\n",
    "节点：S（源点）、A、B、C、T（汇点）\n",
    "\n",
    "边：(S, A, 10, 4), (S, B, 8, 6), (A, B, 5, 2), (A, C, 7, 3), (B, C, 10, 1), (C, T, 10, 5)"
   ]
  },
  {
   "cell_type": "code",
   "execution_count": 80,
   "id": "025517b7-bd9c-464a-a591-ee6e64c1763f",
   "metadata": {},
   "outputs": [
    {
     "name": "stdout",
     "output_type": "stream",
     "text": [
      "流量分配: {'S': {'A': 10, 'B': 0}, 'A': {'B': 5, 'C': 5}, 'B': {'C': 5}, 'C': {'T': 10}, 'T': {}}\n",
      "最小费用: 120\n"
     ]
    }
   ],
   "source": [
    "import networkx as nx\n",
    "\n",
    "# 创建有向图\n",
    "G = nx.DiGraph()\n",
    "\n",
    "# 添加带有容量和费用的边 (起点, 终点, 容量, 费用)\n",
    "edges = [\n",
    "    ('S', 'A', 10, 4),  # (起点, 终点, 容量, 费用)\n",
    "    ('S', 'B', 8, 6),\n",
    "    ('A', 'B', 5, 2),\n",
    "    ('A', 'C', 7, 3),\n",
    "    ('B', 'C', 10, 1),\n",
    "    ('C', 'T', 10, 5)\n",
    "]\n",
    "\n",
    "# 添加边到图中\n",
    "for u, v, capacity, cost in edges:\n",
    "    G.add_edge(u, v, capacity=capacity, weight=cost)\n",
    "\n",
    "# 设置流量需求 (源点S流出10，汇点T流入10，其他节点流量需求为0)\n",
    "demand = {'S': -10, 'T': 10, 'A': 0, 'B': 0, 'C': 0}\n",
    "\n",
    "# 将流量需求添加到节点属性中,给每一个点都设置\n",
    "for node, dem in demand.items():\n",
    "    G.nodes[node]['demand'] = dem\n",
    "\n",
    "# 使用 min_cost_flow 计算最小费用流\n",
    "flow_dict_min_cost = nx.min_cost_flow(G)\n",
    "\n",
    "# 计算最小费用流的总费用\n",
    "total_cost = nx.cost_of_flow(G, flow_dict_min_cost)\n",
    "\n",
    "# 输出流量分配和最小费用\n",
    "print(\"流量分配:\", flow_dict_min_cost)\n",
    "print(\"最小费用:\", total_cost)\n",
    "\n",
    "\n",
    "\n"
   ]
  },
  {
   "cell_type": "code",
   "execution_count": null,
   "id": "9693748d-241e-4362-a981-be72dcdc1aec",
   "metadata": {},
   "outputs": [],
   "source": []
  },
  {
   "cell_type": "code",
   "execution_count": null,
   "id": "306f8579-34be-40dc-a2fc-3625c32ef173",
   "metadata": {},
   "outputs": [],
   "source": []
  },
  {
   "cell_type": "code",
   "execution_count": null,
   "id": "b1608fbd-16d1-4cc9-adbf-ce1e5ce54227",
   "metadata": {},
   "outputs": [],
   "source": []
  }
 ],
 "metadata": {
  "kernelspec": {
   "display_name": "Python 3 (ipykernel)",
   "language": "python",
   "name": "python3"
  },
  "language_info": {
   "codemirror_mode": {
    "name": "ipython",
    "version": 3
   },
   "file_extension": ".py",
   "mimetype": "text/x-python",
   "name": "python",
   "nbconvert_exporter": "python",
   "pygments_lexer": "ipython3",
   "version": "3.11.7"
  }
 },
 "nbformat": 4,
 "nbformat_minor": 5
}
