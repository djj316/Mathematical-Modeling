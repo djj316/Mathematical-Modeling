{
 "cells": [
  {
   "cell_type": "code",
   "execution_count": null,
   "id": "9b667027-6d9e-4d2f-aec9-1cad626e854f",
   "metadata": {},
   "outputs": [],
   "source": [
    "题目1：最大利润问题（生产计划）\n",
    "某工厂生产两种产品 A 和 B。每件产品的利润分别为 40 元和 30 元。产品 A 需要 2 小时的机器时间和 1 小时的人工时间，产品 B 需要 1 小时的机器时间和 2 小时的人工时间。每天最多有 100 小时机器时间和 80 小时人工时间。问：每天应生产多少件 A 和 B 才能使利润最大？\n",
    "\n",
    "要求：\n",
    "\n",
    "建立线性规划模型；\n",
    "\n",
    "解出最大利润及对应的产品数量。\n",
    "\n"
   ]
  },
  {
   "cell_type": "code",
   "execution_count": 7,
   "id": "643210ea-6319-4590-9d87-b7b62dbcc4bc",
   "metadata": {},
   "outputs": [
    {
     "name": "stdout",
     "output_type": "stream",
     "text": [
      "[40. 20.]\n"
     ]
    },
    {
     "data": {
      "text/plain": [
       "2200.0"
      ]
     },
     "execution_count": 7,
     "metadata": {},
     "output_type": "execute_result"
    }
   ],
   "source": [
    "import cvxpy as cp\n",
    "import numpy as np\n",
    "\n",
    "a=np.array([40,30])#定义目标函数\n",
    "b=np.array([[2,1],[1,2]])#定义约束项\n",
    "c=np.array([100,80])#定义约束常量\n",
    "x=cp.Variable(2,integer=True)#定义x\n",
    "obj=cp.Maximize(a@x)#构造目标函数\n",
    "cons=[b@x<=c,x>=0]\n",
    "prob=cp.Problem(obj,cons)#构建问题\n",
    "prob.solve()\n",
    "print(x.value)\n",
    "prob.value"
   ]
  },
  {
   "cell_type": "code",
   "execution_count": null,
   "id": "b47fc008-d0ab-4d36-9150-c4422038f9c8",
   "metadata": {},
   "outputs": [],
   "source": [
    "题目2：最小成本问题（原料配比）\n",
    "一家食品公司需要混合两种原料 A 和 B 以生产一种饲料，每千克饲料中需含有至少 20% 蛋白质和 30% 脂肪。\n",
    "原料 A 每千克成本为 3 元，含有 30% 蛋白质和 40% 脂肪；原料 B 每千克成本为 2 元，含有 10% 蛋白质和 20% 脂肪。\n",
    "问：如何配比可以使每千克饲料的成本最低？\n",
    "\n",
    "要求：\n",
    "\n",
    "建立线性规划模型；\n",
    "\n",
    "求出最优配比及最小成本。"
   ]
  },
  {
   "cell_type": "code",
   "execution_count": 15,
   "id": "60e8bf4a-7b63-4e82-a1e5-def0c1bc4c03",
   "metadata": {},
   "outputs": [
    {
     "name": "stdout",
     "output_type": "stream",
     "text": [
      "[0.5 0.5]\n",
      "2.5000000012701697\n"
     ]
    }
   ],
   "source": [
    "import cvxpy as cp\n",
    "import numpy as np\n",
    "\n",
    "a=np.array([3,2])\n",
    "b=np.array([[0.3,0.1],[0.4,0.2]])\n",
    "c=np.array([0.2,0.3])\n",
    "x=cp.Variable(2,pos=True)\n",
    "obj=cp.Minimize(a@x)\n",
    "cons=[b@x>=c,x>=0,cp.sum(x)==1]\n",
    "prob=cp.Problem(obj,cons)\n",
    "prob.solve()\n",
    "print(x.value)\n",
    "print(prob.value)"
   ]
  },
  {
   "cell_type": "code",
   "execution_count": null,
   "id": "8c37468d-dda1-4ce0-896b-10c840cf8b30",
   "metadata": {},
   "outputs": [],
   "source": [
    "题目3：资源分配问题\n",
    "某企业计划在三个项目中投资，总投资额为不超过 10 万元。\n",
    "三个项目的单位投资回报率分别为 10%、12% 和 15%，\n",
    "但项目 1 至多投资 4 万元，项目 2 至少投资 2 万元，项目 3 的投资不超过项目 1 的 1.5 倍。\n",
    "问：应如何分配投资才能使回报最大？"
   ]
  },
  {
   "cell_type": "code",
   "execution_count": 21,
   "id": "02ab0c4c-c7aa-4a3c-b2ed-629b7af324b3",
   "metadata": {},
   "outputs": [
    {
     "name": "stdout",
     "output_type": "stream",
     "text": [
      "[3. 3. 4.]\n"
     ]
    },
    {
     "data": {
      "text/plain": [
       "1.26"
      ]
     },
     "execution_count": 21,
     "metadata": {},
     "output_type": "execute_result"
    }
   ],
   "source": [
    "import cvxpy as cp\n",
    "import numpy as np\n",
    "\n",
    "a=np.array([0.1,0.12,0.15])\n",
    "x=cp.Variable(3,integer=True)\n",
    "obj=cp.Maximize(a@x)\n",
    "cons=[cp.sum(x)<=10,x>=0,x[0]<=4,x[1]>=2,x[2]<=1.5*x[0]]\n",
    "prob=cp.Problem(obj,cons)\n",
    "prob.solve()\n",
    "print(x.value)\n",
    "prob.value"
   ]
  },
  {
   "cell_type": "code",
   "execution_count": null,
   "id": "6c936ebc-1a13-41f9-84c6-a8cab7fd9509",
   "metadata": {},
   "outputs": [],
   "source": [
    "题目4：运输问题\n",
    "某公司有两个仓库（W1、W2），分别有 60 和 40 单位货物，\n",
    "要送到三个客户（C1、C2、C3），需求分别为 30、50 和 20 单位。\n",
    "单位运输成本如下：\n",
    "\n",
    "    C1\tC2\tC3\n",
    "W1\t4\t6\t8\n",
    "W2\t5\t4\t3\n",
    "\n",
    "问：应如何安排运输方案才能使总运输成本最小？"
   ]
  },
  {
   "cell_type": "code",
   "execution_count": 27,
   "id": "5dff05d3-70be-420c-9549-1d3c119b77bd",
   "metadata": {},
   "outputs": [
    {
     "name": "stdout",
     "output_type": "stream",
     "text": [
      "[[30. 30.  0.]\n",
      " [-0. 20. 20.]]\n"
     ]
    },
    {
     "data": {
      "text/plain": [
       "440.0"
      ]
     },
     "execution_count": 27,
     "metadata": {},
     "output_type": "execute_result"
    }
   ],
   "source": [
    "a=np.array([[4,6,8],[5,4,3]])\n",
    "x=cp.Variable((2,3),integer=True)\n",
    "obj=cp.Minimize(cp.sum(cp.multiply(a,x)))\n",
    "cons=[x>=0,cp.sum(x[:,0])==30,cp.sum(x[:,1])==50,cp.sum(x[:,2])==20,cp.sum(x[0,:])==60,\n",
    "      cp.sum(x[1,:])==40]\n",
    "prob=cp.Problem(obj,cons)\n",
    "prob.solve()\n",
    "print(x.value)\n",
    "prob.value"
   ]
  },
  {
   "cell_type": "code",
   "execution_count": null,
   "id": "44a67a20-5f23-4beb-aa17-9a453515b05c",
   "metadata": {},
   "outputs": [],
   "source": [
    "题目5：混合问题（饮料调配）\n",
    "某厂要调配一种新饮料，该饮料应含 500 毫升，总糖分含量不超过 50 克。厂里有三种原液：\n",
    "\n",
    "A：含糖 10%，成本 1 元/100ml\n",
    "\n",
    "B：含糖 5%，成本 0.8 元/100ml\n",
    "\n",
    "C：含糖 0%，成本 0.5 元/100ml\n",
    "\n",
    "要求最终饮料中 A 不超过 200ml，问应如何调配三种原液使成本最小？\n",
    "\n"
   ]
  },
  {
   "cell_type": "code",
   "execution_count": 28,
   "id": "c8556bf7-292a-418a-9287-07711a1b773a",
   "metadata": {},
   "outputs": [
    {
     "name": "stdout",
     "output_type": "stream",
     "text": [
      "[2.89062183e-08 4.72462326e-07 4.99999999e+02]\n"
     ]
    },
    {
     "data": {
      "text/plain": [
       "250.00000015619185"
      ]
     },
     "execution_count": 28,
     "metadata": {},
     "output_type": "execute_result"
    }
   ],
   "source": [
    "x=cp.Variable(3,pos=True)\n",
    "a=np.array([1,0.8,0.5])\n",
    "b=np.array([0.1,0.05,0])\n",
    "obj=cp.Minimize(a@x)\n",
    "cons=[b@x<=50,x[0]<=200,x>=0,cp.sum(x)==500]\n",
    "prob=cp.Problem(obj,cons)\n",
    "prob.solve()\n",
    "print(x.value)\n",
    "prob.value\n"
   ]
  },
  {
   "cell_type": "code",
   "execution_count": null,
   "id": "53abbaf0-fa83-40cb-a31f-1c1be82868c5",
   "metadata": {},
   "outputs": [],
   "source": [
    "投资组合优化（最大最小型）\n",
    "某投资者有 100 万资金，可投向 4 个项目，年回报率分别为 8%、10%、12%、15%。\n",
    "每个项目的投资上限如下：\n",
    "\n",
    "项目\t最大投资（万元）\n",
    "A\t40\n",
    "B\t30\n",
    "C\t50\n",
    "D\t60\n",
    "\n",
    "为了风险平衡，要求：\n",
    "\n",
    "投入最多的项目与最少的项目之间的差距不超过 20 万；\n",
    "\n",
    "项目 C 和 D 至少选择一个，且至少投 30 万；\n",
    "\n",
    "目标：使总回报最大。"
   ]
  },
  {
   "cell_type": "code",
   "execution_count": 44,
   "id": "12c2b94e-937e-4fb9-bdca-8e1fd88d9b61",
   "metadata": {},
   "outputs": [
    {
     "name": "stdout",
     "output_type": "stream",
     "text": [
      "[15. 15. 35. 35.]\n"
     ]
    },
    {
     "data": {
      "text/plain": [
       "12.15"
      ]
     },
     "execution_count": 44,
     "metadata": {},
     "output_type": "execute_result"
    }
   ],
   "source": [
    "a=np.array([0.08,0.1,0.12,0.15])\n",
    "b=np.array([40,30,50,60])\n",
    "x=cp.Variable(4,integer=True)\n",
    "y=cp.Variable(4,integer=True)\n",
    "obj=cp.Maximize(a@x)\n",
    "cons=[x>=0,cp.max(x)-cp.min(x)<=20,cp.sum(y[-2:])>=1,cp.sum(x[-2:])>=30,cp.sum(x)==100]\n",
    "cons+=[x[i]<=b[i] for i in range(4)]\n",
    "prob=cp.Problem(obj,cons)\n",
    "prob.solve()\n",
    "print(x.value)\n",
    "prob.value\n"
   ]
  },
  {
   "cell_type": "code",
   "execution_count": null,
   "id": "85aa4878-0aa0-4e0d-b80b-099a3fb3a6f0",
   "metadata": {},
   "outputs": [],
   "source": [
    "题目 2：最小绝对误差拟合（L1范数）\n",
    "有 5 个数据点 \n",
    "1\t2.1\n",
    "2\t3.9\n",
    "3\t6.1\n",
    "4\t8.2\n",
    "5\t9.7\n",
    "\n",
    "你希望用线性模型 y=ax+b 拟合它们。\n",
    "\n",
    "目标：使得所有点的绝对误差之和最小\n",
    "\n",
    "要求建立线性规划模型，并给出最优a与b\n"
   ]
  },
  {
   "cell_type": "code",
   "execution_count": 48,
   "id": "2e1e3226-ce6d-495b-aaf4-dc8223a93169",
   "metadata": {},
   "outputs": [
    {
     "name": "stdout",
     "output_type": "stream",
     "text": [
      "[1.94905605 0.15094395]\n"
     ]
    },
    {
     "data": {
      "text/plain": [
       "0.7000000002370874"
      ]
     },
     "execution_count": 48,
     "metadata": {},
     "output_type": "execute_result"
    }
   ],
   "source": [
    "a=np.array([1,2,3,4,5])\n",
    "b=np.array([2.1,3.9,6.1,8.2,9.7])\n",
    "x=cp.Variable(2)\n",
    "y_pre=a*x[0]+x[1]\n",
    "obj=cp.Minimize(cp.sum(cp.abs(y_pre-b)))\n",
    "prob=cp.Problem(obj)\n",
    "prob.solve()\n",
    "print(x.value)\n",
    "prob.value"
   ]
  },
  {
   "cell_type": "code",
   "execution_count": null,
   "id": "373a7392-7e52-40b5-9cce-940410d1e4a4",
   "metadata": {},
   "outputs": [],
   "source": [
    "题目 3：生产+运输联合优化（两阶段 LP）\n",
    "某公司有两个工厂生产商品 A，每天产能上限分别为 100 和 120。生产成本分别为 2 和 3 元/单位。\n",
    "\n",
    "商品要运往三个市场，需求分别为 80、90、50。运输成本如下（元/单位）：\n",
    "\n",
    "市场1\t市场2\t市场3\n",
    "工厂1\t4\t3\t5\n",
    "工厂2\t6\t2\t4\n",
    "\n",
    "要求：\n",
    "\n",
    "满足所有市场需求\n",
    "\n",
    "每个工厂最多生产其产能\n",
    "\n",
    "工厂先生产，才能运输\n",
    "\n",
    "目标：最小化总成本（生产 + 运输）"
   ]
  },
  {
   "cell_type": "code",
   "execution_count": 62,
   "id": "f8a1720b-a564-4a56-898c-47d717515c8c",
   "metadata": {},
   "outputs": [
    {
     "name": "stdout",
     "output_type": "stream",
     "text": [
      "[[80. 20.  0.]\n",
      " [ 0. 70. 50.]]\n"
     ]
    },
    {
     "data": {
      "text/plain": [
       "1280.0"
      ]
     },
     "execution_count": 62,
     "metadata": {},
     "output_type": "execute_result"
    }
   ],
   "source": [
    "a=np.array([[4,3,5],[6,2,4]])\n",
    "b=np.array([2,3])\n",
    "x=cp.Variable((2,3),integer=True)\n",
    "obj=cp.Minimize(cp.sum(cp.multiply(a,x))+cp.sum(2*x[0,:]+3*x[1,:]))\n",
    "cons=[cp.sum(x,axis=1)<=np.array([100,120]),x>=0,cp.sum(x,axis=0)==np.array([80,90,50])]\n",
    "prob=cp.Problem(obj,cons)\n",
    "prob.solve()\n",
    "print(x.value)\n",
    "prob.value"
   ]
  },
  {
   "cell_type": "code",
   "execution_count": null,
   "id": "24c2f7f2-e156-43f2-a6d3-3565871af416",
   "metadata": {},
   "outputs": [],
   "source": [
    "题目 4：最大化最小保障水平（公平分配问题）\n",
    "公司分配资源（如奖金或预算）给 4 个部门，总量 100 单位。各部门期望分配分别为：30、40、50、60。\n",
    "要求：\n",
    "所有部门实际分配不超过期望；\n",
    "尽量保证最不满意的部门尽可能满意（即最大化最小分配/期望的比例）\n",
    "目标：\n",
    "maxmin(𝑥𝑖/期望𝑖)\n",
    "将该问题转化为线性规划模型。"
   ]
  },
  {
   "cell_type": "code",
   "execution_count": 54,
   "id": "9b35adb0-fa21-47c2-a8d2-279d3dbfcfcc",
   "metadata": {},
   "outputs": [
    {
     "name": "stdout",
     "output_type": "stream",
     "text": [
      "[16.66666662 22.2222224  27.77777785 33.33333312]\n"
     ]
    },
    {
     "data": {
      "text/plain": [
       "0.5555555520709244"
      ]
     },
     "execution_count": 54,
     "metadata": {},
     "output_type": "execute_result"
    }
   ],
   "source": [
    "a=np.array([30,40,50,60])\n",
    "x=cp.Variable(4,pos=True)\n",
    "obj=cp.Maximize(cp.min(x/a))\n",
    "cons=[cp.sum(x)==100]\n",
    "prob=cp.Problem(obj,cons)\n",
    "prob.solve()\n",
    "print(x.value)\n",
    "prob.value"
   ]
  },
  {
   "cell_type": "code",
   "execution_count": null,
   "id": "a9ffc5ce-3014-45a1-985c-d3c4de89b432",
   "metadata": {},
   "outputs": [],
   "source": [
    "题目 5：0-1 整数线性规划（选址问题）\n",
    "公司计划在 5 个城市中选址设立分公司，每个城市选址成本如下：\n",
    "\n",
    "城市\t成本（万元）\n",
    "A\t30\n",
    "B\t20\n",
    "C\t40\n",
    "D\t25\n",
    "E\t35\n",
    "\n",
    "要求：\n",
    "\n",
    "最多选 3 个城市；\n",
    "\n",
    "至少选一个成本 ≤ 25 的城市；\n",
    "\n",
    "选 A 必须选 B；\n",
    "\n",
    "不允许同时选 C 和 D；\n",
    "\n",
    "总成本不超过 80 万\n",
    "\n",
    "目标：使服务人口最大（设有一个人口向量）\n",
    "\n",
    "假设每个城市服务人口如下（单位：万人）：\n",
    "\n",
    "城市\t服务人口\n",
    "A\t50\n",
    "B\t40\n",
    "C\t70\n",
    "D\t60\n",
    "E\t65"
   ]
  },
  {
   "cell_type": "code",
   "execution_count": 61,
   "id": "28a516b1-9488-45a2-b537-15e40ca8778d",
   "metadata": {},
   "outputs": [
    {
     "name": "stdout",
     "output_type": "stream",
     "text": [
      "[-0.  1. -0.  1.  1.]\n"
     ]
    },
    {
     "data": {
      "text/plain": [
       "165.0"
      ]
     },
     "execution_count": 61,
     "metadata": {},
     "output_type": "execute_result"
    }
   ],
   "source": [
    "a=np.array([30,20,40,25,35])\n",
    "b=np.array([50,40,70,60,65])\n",
    "x=cp.Variable(5,integer=True)\n",
    "obj=cp.Maximize(cp.sum(x@b))\n",
    "cons=[x>=0,x<=1,cp.sum(x)<=3,x[1]+x[3]>=1,cp.sum(a@x)<=80,\n",
    "     x[0]<=x[1],x[2]+x[3]<=1]\n",
    "prob=cp.Problem(obj,cons)\n",
    "prob.solve()\n",
    "print(x.value)\n",
    "prob.value"
   ]
  },
  {
   "cell_type": "markdown",
   "id": "4c286548-9893-40d2-a90f-11e3c53dfffd",
   "metadata": {},
   "source": [
    "# 课后练习题"
   ]
  },
  {
   "cell_type": "code",
   "execution_count": 2,
   "id": "56cdd490-1a3a-4b4e-84ea-a2f362268710",
   "metadata": {},
   "outputs": [
    {
     "data": {
      "text/plain": [
       "(0.20400000007226474, array([0.2, 0.8]))"
      ]
     },
     "execution_count": 2,
     "metadata": {},
     "output_type": "execute_result"
    }
   ],
   "source": [
    "#1\n",
    "\n",
    "import cvxpy as cp\n",
    "import numpy as np\n",
    "\n",
    "a=np.array([0.3,0.18])\n",
    "x=cp.Variable(2,pos=True)\n",
    "obj=cp.Minimize(a@x)\n",
    "cons=[x[1]<=6000/500/7,cp.sum(x)==1,x[0]>=0.2]\n",
    "prob=cp.Problem(obj,cons)\n",
    "prob.solve()\n",
    "prob.value,x.value\n"
   ]
  },
  {
   "cell_type": "code",
   "execution_count": 14,
   "id": "cb437fed-eefa-4b55-8229-7e7247122192",
   "metadata": {},
   "outputs": [
    {
     "data": {
      "text/plain": [
       "(array([[  -0.,   -0.,  800., 1200.],\n",
       "        [  -0.,   -0.,   -0.,   -0.],\n",
       "        [  -0.,   -0.,   -0.,   -0.],\n",
       "        [  -0.,   -0.,   -0.,   -0.]]),\n",
       " 56000.0)"
      ]
     },
     "execution_count": 14,
     "metadata": {},
     "output_type": "execute_result"
    }
   ],
   "source": [
    "#2\n",
    "a=np.array([[28,28,28,28],[45,45,45,10000],[60,60,10000,10000],[73,10000,10000,10000]])\n",
    "x=cp.Variable((4,4),integer=True)\n",
    "obj=cp.Minimize(cp.sum(cp.multiply(a,x)))\n",
    "cons=[cp.sum(x[0,:])>=1500,\n",
    "      cp.sum(x[0,1:])+cp.sum(x[1,:])>=1000,\n",
    "      cp.sum(x[0,2:])+cp.sum(x[1,1:])+cp.sum(x[2,:])>=2000,\n",
    "      cp.sum(x[0,3:])+cp.sum(x[1,2:])+cp.sum(x[2,1:])+cp.sum(x[3,:])>=1200,\n",
    "      x>=0]\n",
    "prob=cp.Problem(obj,cons)\n",
    "prob.solve()\n",
    "x.value,prob.value"
   ]
  },
  {
   "cell_type": "code",
   "execution_count": 19,
   "id": "ab1b1a92-ceb6-454e-9d2e-d120c3b8cb73",
   "metadata": {},
   "outputs": [
    {
     "data": {
      "text/plain": [
       "(array([60., 10., 50., -0., 30., -0.]), 150.0)"
      ]
     },
     "execution_count": 19,
     "metadata": {},
     "output_type": "execute_result"
    }
   ],
   "source": [
    "#3\n",
    "x=cp.Variable(6,integer=True)\n",
    "a=np.array([60,70,60,50,20,30])\n",
    "obj=cp.Minimize(cp.sum(x))\n",
    "cons=[x>=0,x[0]>=60]\n",
    "for i in range(1,6):\n",
    "    cons+=[x[i]+x[i-1]>=a[i]]\n",
    "# cons=[x[0]>=60,x[1]+x[0]>=70,\n",
    "#      x[1]+x[2]>=60,x[2]+x[3]>=50,\n",
    "#      x[3]+x[4]>=20,x[4]+x[5]>=30,\n",
    "#      x>=0]\n",
    "s=cp.Problem(obj,cons)\n",
    "s.solve()\n",
    "x.value,s.value"
   ]
  },
  {
   "cell_type": "code",
   "execution_count": 1,
   "id": "92648527-eb7a-4c33-9429-1d693ff4dcce",
   "metadata": {},
   "outputs": [
    {
     "data": {
      "text/plain": [
       "(array([[-0., -0., -0., -0., -0., -0., -0.],\n",
       "        [-0., -0.,  1., -0., -0., -0., -0.],\n",
       "        [-0., -0., -0., -0., -0., -0., -0.],\n",
       "        [-0., -0., -0., -0., -0., -0.,  1.],\n",
       "        [-0., -0., -0., -0., -0., -0., -0.],\n",
       "        [-0., -0., -0., -0., -0., -0., -0.],\n",
       "        [-0., -0., -0., -0., -0., -0., -0.]]),\n",
       " 177.0)"
      ]
     },
     "execution_count": 1,
     "metadata": {},
     "output_type": "execute_result"
    }
   ],
   "source": [
    "#4\n",
    "\n",
    "import numpy as np\n",
    "import cvxpy as cp\n",
    "\n",
    "a=np.array([[34,63,-10000,76,-10000,-10000,-10000],\n",
    "[-10000,29,85,71,50,-10000,-10000],\n",
    "[-10000,-10000,42,63,-10000,-10000,-10000],\n",
    "[-10000,-10000,-10000,21,77,39,92],\n",
    "[-10000,-10000,-10000,-10000,56,74,92],\n",
    "[-10000,-10000,-10000,-10000,-10000,18,89],\n",
    "[-10000,-10000,-10000,-10000,-10000,-10000,71]])\n",
    "x=cp.Variable((7,7),integer=True)\n",
    "obj=cp.Maximize(cp.sum(cp.multiply(a,x)))\n",
    "cons=[cp.sum(x)==2,x>=0,x<=1,cp.sum(x,axis=0)<=1]\n",
    "s=cp.Problem(obj,cons)\n",
    "s.solve()\n",
    "x.value,s.value"
   ]
  },
  {
   "cell_type": "markdown",
   "id": "b7827957-47e0-4804-822e-a6caf03cb756",
   "metadata": {},
   "source": [
    "## 模型如下\n",
    "$fun=\\sum_{i=1}^{4}(n_{i}*(r_{i}*x_{i}-(1-m_{i})*p_{i}*u_{i}-m_{i}*p_{i}*x_{i}))-max(\\sum_{i=1}^{4}x_{i}*q_{i})$\n",
    "\n",
    "s.t.\n",
    "$sum(x_{i}+(1-m_{i})*p_{i}*u_{i}+m_{i}*p_{i}*x_{i})==10000$\n",
    "\n",
    "$x_{i}>=0$\n",
    "\n",
    "$n>=m$\n",
    "\n",
    "$n>=0,n<=1,m>=0,m<=1$"
   ]
  },
  {
   "cell_type": "code",
   "execution_count": 127,
   "id": "1a32a0fc-503e-44fa-b9b5-e58639faed68",
   "metadata": {},
   "outputs": [
    {
     "name": "stderr",
     "output_type": "stream",
     "text": [
      "C:\\Users\\zyh13\\AppData\\Roaming\\Python\\Python311\\site-packages\\cvxpy\\expressions\\expression.py:674: UserWarning: \n",
      "This use of ``*`` has resulted in matrix multiplication.\n",
      "Using ``*`` for matrix multiplication has been deprecated since CVXPY 1.1.\n",
      "    Use ``*`` for matrix-scalar and vector-scalar multiplication.\n",
      "    Use ``@`` for matrix-matrix and matrix-vector multiplication.\n",
      "    Use ``multiply`` for elementwise multiplication.\n",
      "This code path has been hit 106 times so far.\n",
      "\n",
      "  warnings.warn(msg, UserWarning)\n"
     ]
    },
    {
     "data": {
      "text/plain": [
       "(array([9296.62375248,  195.00001   ,  195.        ,  195.        ]),\n",
       " array([1., 1., 1., 1.]),\n",
       " array([ 1., -0.,  1.,  1.]),\n",
       " 2368.0928213064344)"
      ]
     },
     "execution_count": 127,
     "metadata": {},
     "output_type": "execute_result"
    }
   ],
   "source": [
    "#6\n",
    "import cvxpy as cp\n",
    "import numpy as np\n",
    "\n",
    "# 决策变量\n",
    "n = cp.Variable(4, integer=True)  # 是否投资 (0或1)\n",
    "m = cp.Variable(4, integer=True)  # 是否超过阈值 (0或1)\n",
    "x = cp.Variable(4, pos=True)   # 投资金额\n",
    "\n",
    "# 参数\n",
    "r = np.array([0.28, 0.21, 0.23, 0.25])  # 收益率\n",
    "q = np.array([0.025, 0.015, 0.055, 0.026])  # 折扣因子\n",
    "p = np.array([0.01, 0.02, 0.045, 0.065])  # 成本因子\n",
    "u = np.array([103, 198, 52, 40])  # 阈值\n",
    "M = 1e5  # 大M常数\n",
    "eps = 1e-5  # 极小常数\n",
    "\n",
    "# 辅助变量（用于线性化）\n",
    "y = cp.Variable(4)  # y_i = n_i * x_i\n",
    "w = cp.Variable(4)  # w_i = m_i * x_i\n",
    "\n",
    "# 目标函数（线性化后）\n",
    "revenue = cp.sum(cp.multiply(r, y))  # r_i * y_i = r_i * (n_i * x_i)\n",
    "cost1 = cp.sum(cp.multiply(p*u,1-m))# x_i * (1 - m_i) * p_i * u_i\n",
    "cost2 = cp.sum(cp.multiply(w, p))  # m_i * p_i * x_i\n",
    "cost3 = cp.sum(cp.multiply(q, x))  # q_i * x_i\n",
    "\n",
    "obj = cp.Maximize(revenue - cost1 - cost2 - cost3)\n",
    "\n",
    "# 约束条件\n",
    "cons = [\n",
    "    # 总投资约束\n",
    "    cp.sum(x)+cost1+cost2 == 10000,\n",
    "    # 线性化约束：\n",
    "    # 1. y_i = n_i * x_i （使用大M法）\n",
    "    y <= M * n,\n",
    "    y <= x,\n",
    "    y >= x - M * (1 - n),\n",
    "    y >= 0,\n",
    "    # 2. w_i = m_i * x_i\n",
    "    w <= M * m,\n",
    "    w <= x,\n",
    "    w >= x - M * (1 - m),\n",
    "    w >= 0,\n",
    "    # 3. m_i = 1 ⇔ x_i > u_i\n",
    "    x <= u + M * m,\n",
    "    x >= u * m + eps * (1 - m),\n",
    "    # 4. n_i = 1 ⇔ x_i > 0\n",
    "    x <= M * n,\n",
    "    x >= eps * n,\n",
    "    # 变量范围\n",
    "    x >= 0,\n",
    "    n >= 0, n <= 1,\n",
    "    m >= 0, m <= 1,\n",
    "    n >= m\n",
    "]\n",
    "\n",
    "# 求解\n",
    "prob = cp.Problem(obj, cons)\n",
    "prob.solve()\n",
    "\n",
    "x.value,n.value,m.value,prob.value"
   ]
  },
  {
   "cell_type": "code",
   "execution_count": null,
   "id": "14a16aef-d83e-4866-880e-9136bb9e7b48",
   "metadata": {},
   "outputs": [],
   "source": []
  },
  {
   "cell_type": "code",
   "execution_count": null,
   "id": "ab1b0956-454a-48dc-8489-9988ecfe77dd",
   "metadata": {},
   "outputs": [],
   "source": []
  },
  {
   "cell_type": "code",
   "execution_count": null,
   "id": "3358f8ec-c2e4-4346-b824-38296bc779b6",
   "metadata": {},
   "outputs": [],
   "source": []
  },
  {
   "cell_type": "code",
   "execution_count": null,
   "id": "c4292de1-8cbb-4439-9b5c-bce5b36d2d78",
   "metadata": {},
   "outputs": [],
   "source": []
  }
 ],
 "metadata": {
  "kernelspec": {
   "display_name": "Python 3 (ipykernel)",
   "language": "python",
   "name": "python3"
  },
  "language_info": {
   "codemirror_mode": {
    "name": "ipython",
    "version": 3
   },
   "file_extension": ".py",
   "mimetype": "text/x-python",
   "name": "python",
   "nbconvert_exporter": "python",
   "pygments_lexer": "ipython3",
   "version": "3.11.7"
  }
 },
 "nbformat": 4,
 "nbformat_minor": 5
}
