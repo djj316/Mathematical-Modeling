{
 "cells": [
  {
   "cell_type": "code",
   "execution_count": null,
   "id": "c35ee845-e257-4ea7-b578-7a39548da878",
   "metadata": {},
   "outputs": [],
   "source": [
    "例题1：投资组合优化（一般非线性规划）\n",
    "问题描述：\n",
    "一个投资者要在两个资产A和B中分配资金。期望收益函数为：\n",
    "f(x,y)=−(0.1x+0.15y−0.5x^2−0.6y^2)\n",
    "其中x,y 分别为投资A、B的比例。目标是最大化收益（即最小化负收益），且满足：\n",
    "x+y=1\n",
    "0≤x,y≤1"
   ]
  },
  {
   "cell_type": "code",
   "execution_count": 6,
   "id": "57712b3a-5d8c-4f88-9eba-5f3b69ceb1d4",
   "metadata": {},
   "outputs": [
    {
     "data": {
      "text/plain": [
       " message: Optimization terminated successfully\n",
       " success: True\n",
       "  status: 0\n",
       "     fun: 0.14943184532397263\n",
       "       x: [ 5.226e-01  4.774e-01]\n",
       "     nit: 3\n",
       "     jac: [ 4.226e-01  4.229e-01]\n",
       "    nfev: 9\n",
       "    njev: 3"
      ]
     },
     "execution_count": 6,
     "metadata": {},
     "output_type": "execute_result"
    }
   ],
   "source": [
    "import numpy as np\n",
    "from scipy.optimize import minimize\n",
    "def fun(x):\n",
    "    return -(0.1*x[0]+0.15*x[1]-0.5*x[0]**2-0.6*x[1]**2)\n",
    "con=[{'type':'eq','fun':lambda x:np.sum(x)-1}]\n",
    "bd=[[0,1],[0,1]]\n",
    "s=minimize(fun,np.random.rand(2),constraints=con,bounds=bd)\n",
    "s"
   ]
  },
  {
   "cell_type": "raw",
   "id": "5e20ebc3-1a0a-4a94-8884-400053e5af7f",
   "metadata": {},
   "source": [
    "例题2：广告投放问题（有不等式约束的NLP）\n",
    "问题描述：\n",
    "企业在电视、互联网、广播上投放广告，带来的潜在客户为：\n",
    "f(x,y,z)=−(20x^0.5+15y^0.6+10z^0.8)\n",
    "总预算不超过10万元，每种广告单价分别为2万、1.5万、1万元。求最优分配方案。\n",
    "约束：\n",
    "2x+1.5y+z≤10\n",
    "x,y,z≥0"
   ]
  },
  {
   "cell_type": "code",
   "execution_count": 11,
   "id": "a78438d3-fcdd-41f6-a442-84620f5c7e2e",
   "metadata": {},
   "outputs": [
    {
     "data": {
      "text/plain": [
       " message: Optimization terminated successfully\n",
       " success: True\n",
       "  status: 0\n",
       "     fun: -79.87975310132913\n",
       "       x: [ 8.252e-01  1.241e+00  6.488e+00]\n",
       "     nit: 7\n",
       "     jac: [-1.101e+01 -8.255e+00 -5.504e+00]\n",
       "    nfev: 29\n",
       "    njev: 7"
      ]
     },
     "execution_count": 11,
     "metadata": {},
     "output_type": "execute_result"
    }
   ],
   "source": [
    "import numpy as np\n",
    "from scipy.optimize import minimize\n",
    "def fun(x):\n",
    "    return -(20*x[0]**0.5+15*x[1]**0.6+10*x[2]**0.8)\n",
    "con=[{'type':'ineq','fun':lambda x:10-(2*x[0]+1.5*x[1]+x[2])}]\n",
    "bd=[[0,np.inf],[0,np.inf],[0,np.inf]]\n",
    "s=minimize(fun,np.random.rand(3),constraints=con,bounds=bd)\n",
    "s"
   ]
  },
  {
   "cell_type": "code",
   "execution_count": null,
   "id": "447f9529-1cbd-4870-8de0-081893bb0ad1",
   "metadata": {},
   "outputs": [],
   "source": [
    "例题3：整数非线性规划（INLP）\n",
    "问题描述：\n",
    "一家工厂要生产产品A和B，生产数量必须为整数。利润函数为：\n",
    "f(x,y)=−[(2x+3y)−0.1x^2−0.15y^2]\n",
    "其中 \n",
    "x,y 是产品数量。原料和劳动力限制如下：\n",
    "3x+4y≤100\n",
    "2x+y≤40\n",
    "x,y∈Z≥0\n",
    "​\n"
   ]
  },
  {
   "cell_type": "code",
   "execution_count": 17,
   "id": "e53bf5ac-d328-4bc7-8289-9fbfe9b3eb65",
   "metadata": {},
   "outputs": [
    {
     "data": {
      "text/plain": [
       " message: Optimization terminated successfully\n",
       " success: True\n",
       "  status: 0\n",
       "     fun: -24.999999924221555\n",
       "       x: [ 1.000e+01  1.000e+01]\n",
       "     nit: 6\n",
       "     jac: [ 9.155e-05  1.817e-04]\n",
       "    nfev: 18\n",
       "    njev: 6"
      ]
     },
     "execution_count": 17,
     "metadata": {},
     "output_type": "execute_result"
    }
   ],
   "source": [
    "def fun(x):\n",
    "    return -((2*x[0]+3*x[1])-0.1*x[0]**2-0.15*x[1]**2)\n",
    "con=[{'type':'ineq','fun':lambda x:100-3*x[0]-4*x[1]},\n",
    "    {'type':'ineq','fun':lambda x:40-x[1]-2*x[0]}]\n",
    "\n",
    "bd=[[0,np.inf],[0,np.inf]]\n",
    "\n",
    "s=minimize(fun,np.random.rand(2),constraints=con,bounds=bd)\n",
    "s"
   ]
  },
  {
   "cell_type": "code",
   "execution_count": null,
   "id": "8913e31f-8839-4243-a53d-0e0b59aef375",
   "metadata": {},
   "outputs": [],
   "source": [
    "例题4：混合整数非线性规划（MINLP）\n",
    "问题描述：\n",
    "某公司决定是否新建两条生产线（布尔变量），并决定生产数量。目标利润为：\n",
    "f(x,y,z1,z2)=−[(20x+25y−2x^2−3y^2)⋅(z1+z2)]\n",
    "​\n",
    "其中 \n",
    "x,y 为产品产量（实数），\n",
    "z1,z2∈{0,1} 表示是否建设生产线。\n",
    "约束：\n",
    "x≤50z1, \n",
    "y≤40z2\n",
    "x+y≤80"
   ]
  },
  {
   "cell_type": "code",
   "execution_count": 20,
   "id": "db4446ea-4a9f-45be-aa53-c8fe23ed218b",
   "metadata": {},
   "outputs": [
    {
     "data": {
      "text/plain": [
       " message: Optimization terminated successfully\n",
       " success: True\n",
       "  status: 0\n",
       "     fun: -204.1666660252481\n",
       "       x: [ 5.000e+00  4.167e+00  1.000e+00  1.000e+00]\n",
       "     nit: 5\n",
       "     jac: [-3.815e-06  0.000e+00 -1.021e+02 -1.021e+02]\n",
       "    nfev: 22\n",
       "    njev: 4"
      ]
     },
     "execution_count": 20,
     "metadata": {},
     "output_type": "execute_result"
    }
   ],
   "source": [
    "def fun(x):\n",
    "    return -(20*x[0]+25*x[1]-2*x[0]**2-3*x[1]**2)*(x[2]+x[3])\n",
    "con=[{'type':'ineq','fun':lambda x:50*x[2]-x[0]},\n",
    "    {'type':'ineq','fun':lambda x:40*x[3]-x[1]},\n",
    "    {'type':'ineq','fun':lambda x:80-x[0]-x[1]}]\n",
    "\n",
    "bd=[[0,np.inf],[0,np.inf],[0,1],[0,1]]\n",
    "\n",
    "s=minimize(fun,np.random.rand(4),constraints=con,bounds=bd)\n",
    "s"
   ]
  },
  {
   "cell_type": "code",
   "execution_count": null,
   "id": "e2d38958-51b7-4418-893b-d46c6175e336",
   "metadata": {},
   "outputs": [],
   "source": [
    "例题5：非凸目标函数\n",
    "问题描述：\n",
    "某项科技项目的回报期望为：\n",
    "\n",
    "f(x)=−(xsinx)\n",
    "约束：\n",
    "0≤x≤10\n",
    "\n",
    "类型： 非凸非线性规划（有多个局部极值）"
   ]
  },
  {
   "cell_type": "code",
   "execution_count": 26,
   "id": "47f9434a-e679-4d98-8366-34e325a602a1",
   "metadata": {},
   "outputs": [
    {
     "data": {
      "text/plain": [
       "  message: CONVERGENCE: NORM_OF_PROJECTED_GRADIENT_<=_PGTOL\n",
       "  success: True\n",
       "   status: 0\n",
       "      fun: -1.8197057411594333\n",
       "        x: [ 2.029e+00]\n",
       "      nit: 4\n",
       "      jac: [ 1.088e-06]\n",
       "     nfev: 12\n",
       "     njev: 6\n",
       " hess_inv: <1x1 LbfgsInvHessProduct with dtype=float64>"
      ]
     },
     "execution_count": 26,
     "metadata": {},
     "output_type": "execute_result"
    }
   ],
   "source": [
    "def fun(x):\n",
    "    return -(x[0]*np.sin(x[0]))\n",
    "bd=[[0,10]]\n",
    "s=minimize(fun,np.random.rand(1),bounds=bd)\n",
    "s"
   ]
  },
  {
   "cell_type": "raw",
   "id": "ad520488-4313-4b62-ab52-6561f3f58340",
   "metadata": {},
   "source": [
    "例题6：目标函数和约束都为非线性\n",
    "问题描述：\n",
    "设计一个封闭水箱，使其表面积最小而体积固定。水箱为圆柱形，设高 \n",
    "h底面半径 r：\n",
    "\n",
    "目标函数（表面积）：\n",
    "\n",
    "f(r,h)=2πrh+2πr^2\n",
    " \n",
    "约束（固定体积）：\n",
    "πr^2*h=V0\n",
    "​\n",
    " \n",
    "类型： 等式约束 + 非线性目标 + 非线性约束"
   ]
  },
  {
   "cell_type": "code",
   "execution_count": 27,
   "id": "980ec53b-d4c1-4d80-a1c8-9f7ea20caab5",
   "metadata": {},
   "outputs": [
    {
     "data": {
      "text/plain": [
       " message: Optimization terminated successfully\n",
       " success: True\n",
       "  status: 0\n",
       "     fun: 25.694955949418965\n",
       "       x: [ 1.168e+00  2.335e+00]\n",
       "     nit: 10\n",
       "     jac: [ 2.934e+01  7.336e+00]\n",
       "    nfev: 32\n",
       "    njev: 10"
      ]
     },
     "execution_count": 27,
     "metadata": {},
     "output_type": "execute_result"
    }
   ],
   "source": [
    "def fun(x):\n",
    "    return 2*np.pi*x[0]*x[1]+2*np.pi*x[0]**2\n",
    "con=[{'type':'eq','fun':lambda x:np.pi*x[0]**2*x[1]-10}]\n",
    "bd=[[0,10],[0,10]]\n",
    "s=minimize(fun,np.random.rand(2),constraints=con,bounds=bd)\n",
    "s"
   ]
  },
  {
   "cell_type": "code",
   "execution_count": null,
   "id": "4ff3e8fa-96c3-4af0-b396-c346dfb14cb7",
   "metadata": {},
   "outputs": [],
   "source": [
    "例题7：化学反应优化（多局部最优解）\n",
    "问题描述：\n",
    "控制两个反应物的浓度 \n",
    "x,y，反应效率如下：\n",
    "f(x,y)=−(sinx⋅cosy+x^2+y^2)\n",
    "目标是最大化反应效率。\n",
    "\n",
    "约束：\n",
    "−3≤x,y≤3\n",
    "\n",
    "类型： 非凸非线性规划，可能存在多个极值点"
   ]
  },
  {
   "cell_type": "code",
   "execution_count": 29,
   "id": "95e49f98-28a9-441d-a397-332dbe02c5db",
   "metadata": {},
   "outputs": [
    {
     "data": {
      "text/plain": [
       "  message: CONVERGENCE: NORM_OF_PROJECTED_GRADIENT_<=_PGTOL\n",
       "  success: True\n",
       "   status: 0\n",
       "      fun: -17.860292250900535\n",
       "        x: [ 3.000e+00  3.000e+00]\n",
       "      nit: 2\n",
       "      jac: [-6.980e+00 -5.980e+00]\n",
       "     nfev: 9\n",
       "     njev: 3\n",
       " hess_inv: <2x2 LbfgsInvHessProduct with dtype=float64>"
      ]
     },
     "execution_count": 29,
     "metadata": {},
     "output_type": "execute_result"
    }
   ],
   "source": [
    "def fun(x):\n",
    "    return -(np.sin(x[0])*np.cos(x[1])+x[0]**2+x[1]**2)\n",
    "\n",
    "bd=[[-3,3],[-3,3]]\n",
    "\n",
    "s=minimize(fun,np.random.rand(2),bounds=bd)\n",
    "s"
   ]
  },
  {
   "cell_type": "code",
   "execution_count": 2,
   "id": "85522877-c04d-4561-ad3c-16bc4f4cbb32",
   "metadata": {},
   "outputs": [
    {
     "name": "stdout",
     "output_type": "stream",
     "text": [
      "Success: True\n",
      "Optimal x: [9.89217822e+03 4.45019065e-12 2.17131868e-13 8.26422698e-13]\n",
      "n (approx): [1.  0.5 0.5 0.5]\n",
      "m (approx): [1. 0. 0. 0.]\n",
      "n (rounded): [1. 1. 1. 1.]\n",
      "m (rounded): [1. 0. 0. 0.]\n",
      "Objective value (net profit): 2419.1336633757737\n"
     ]
    },
    {
     "name": "stderr",
     "output_type": "stream",
     "text": [
      "C:\\Users\\zyh13\\AppData\\Local\\Temp\\ipykernel_31548\\3891610644.py:13: RuntimeWarning: overflow encountered in exp\n",
      "  return 1 / (1 + np.exp(-k * x))\n"
     ]
    }
   ],
   "source": [
    "#启发式搜索\n",
    "import numpy as np\n",
    "from scipy.optimize import minimize\n",
    "\n",
    "# 固定参数\n",
    "r = np.array([0.28, 0.21, 0.23, 0.25])       # 收益率\n",
    "q = np.array([0.025, 0.015, 0.055, 0.026])   # 折扣因子\n",
    "p = np.array([0.01, 0.02, 0.045, 0.065])     # 成本因子\n",
    "u = np.array([103, 198, 52, 40])             # 阈值\n",
    "\n",
    "# sigmoid 函数（用来模拟 0-1 逻辑）\n",
    "def sigmoid(x, k=50):\n",
    "    return 1 / (1 + np.exp(-k * x))\n",
    "\n",
    "# 目标函数\n",
    "def objective(x):\n",
    "    n = sigmoid(x)              # 近似 n_i：是否投资\n",
    "    m = sigmoid(x - u)          # 近似 m_i：是否超过阈值\n",
    "\n",
    "    part1 = r * x\n",
    "    part2 = (1 - m) * p * u\n",
    "    part3 = m * p * x\n",
    "    revenue = np.sum(n * (part1 - part2 - part3))\n",
    "    penalty = np.max(x * q)\n",
    "\n",
    "    return - (revenue - penalty)  # 最小化负收益即最大化净收益\n",
    "\n",
    "# 约束函数（总支出 = 10000）\n",
    "def constraint_total(x):\n",
    "    m = sigmoid(x - u)\n",
    "    return np.sum(x + (1 - m) * p * u + m * p * x) - 10000\n",
    "\n",
    "# 初始猜测\n",
    "x0 = np.array([100, 100, 100, 100])\n",
    "\n",
    "# 边界条件：x_i >= 0\n",
    "bounds = [(0, None)] * 4\n",
    "\n",
    "# 非线性等式约束\n",
    "constraints = {\n",
    "    'type': 'eq',\n",
    "    'fun': constraint_total\n",
    "}\n",
    "\n",
    "# 调用优化器\n",
    "result = minimize(objective, x0, bounds=bounds, constraints=constraints, method='SLSQP')\n",
    "\n",
    "# 提取最优解\n",
    "x_opt = result.x\n",
    "n_opt = sigmoid(x_opt)               # 是否投资\n",
    "m_opt = sigmoid(x_opt - u)           # 是否超过阈值\n",
    "\n",
    "# 输出结果\n",
    "print(\"Success:\", result.success)\n",
    "print(\"Optimal x:\", x_opt)\n",
    "print(\"n (approx):\", n_opt)\n",
    "print(\"m (approx):\", m_opt)\n",
    "print(\"n (rounded):\", np.round(n_opt))\n",
    "print(\"m (rounded):\", np.round(m_opt))\n",
    "print(\"Objective value (net profit):\", -result.fun)\n"
   ]
  },
  {
   "cell_type": "markdown",
   "id": "765c6943-ec7d-4cea-b1e8-aea86be97a7d",
   "metadata": {},
   "source": [
    "## 课后习题"
   ]
  },
  {
   "cell_type": "code",
   "execution_count": 5,
   "id": "c905aa87-5f3b-4f2d-9cfb-ba5e51f6b53c",
   "metadata": {},
   "outputs": [
    {
     "data": {
      "text/plain": [
       " message: Optimization terminated successfully\n",
       " success: True\n",
       "  status: 0\n",
       "     fun: 10986.666666697376\n",
       "       x: [ 4.000e+01  3.000e+01  2.667e+01  3.000e+01  2.667e+01\n",
       "            2.667e+01]\n",
       "     nit: 4\n",
       "     jac: [ 6.600e+01  6.600e+01  6.867e+01  6.600e+01  6.867e+01\n",
       "            6.867e+01]\n",
       "    nfev: 28\n",
       "    njev: 4"
      ]
     },
     "execution_count": 5,
     "metadata": {},
     "output_type": "execute_result"
    }
   ],
   "source": [
    "#1.\n",
    "from scipy.optimize import minimize\n",
    "import numpy as np\n",
    "def y(x):\n",
    "    return 50*x+0.2*x**2\n",
    "\n",
    "def fun(x):\n",
    "    sum=0\n",
    "    for i in range(6):\n",
    "        sum+=y(x[i])\n",
    "    sum+=4*(x[1]+x[3])\n",
    "    sum+=8*(x[2]+x[4]+x[5])\n",
    "    return sum\n",
    "\n",
    "cons=[{'type':'eq','fun':lambda x:x[0]-40},\n",
    "     {'type':'eq','fun':lambda x:x[1]+x[3]-60},\n",
    "     {'type':'eq','fun':lambda x:x[2]+x[4]+x[5]-80},\n",
    "     {'type':'ineq','fun':lambda x:100-np.sum(x[:3])},\n",
    "     {'type':'ineq','fun':lambda x:100-np.sum(x[3:5])},\n",
    "     {'type':'ineq','fun':lambda x:100-x[5]}\n",
    "     ]\n",
    "\n",
    "bd=[[0,np.inf] for i in range(6)]\n",
    "\n",
    "s=minimize(fun,np.random.rand(6),constraints=cons,bounds=bd)\n",
    "s"
   ]
  },
  {
   "cell_type": "code",
   "execution_count": 4,
   "id": "445a0b7c-5744-45c6-aa8a-45b09941accd",
   "metadata": {},
   "outputs": [
    {
     "data": {
      "text/plain": [
       " message: Optimization terminated successfully\n",
       " success: True\n",
       "  status: 0\n",
       "     fun: -143.52634269654118\n",
       "       x: [ 4.961e+00  4.235e+00  7.673e+00  3.831e+02]\n",
       "     nit: 37\n",
       "     jac: [-2.245e-01 -3.430e-01 -3.805e-01 -3.255e-01]\n",
       "    nfev: 215\n",
       "    njev: 37"
      ]
     },
     "execution_count": 4,
     "metadata": {},
     "output_type": "execute_result"
    }
   ],
   "source": [
    "#2\n",
    "import numpy as np\n",
    "from scipy.optimize import minimize \n",
    "def fun(x):\n",
    "    sum=0\n",
    "    for i in range(4):\n",
    "        sum-=(np.sqrt(x[i])+np.sum(x[i+1:])*0.1)\n",
    "    return sum\n",
    "\n",
    "cons=[{'type':'eq','fun':lambda x:np.sum(x)-400}]\n",
    "\n",
    "bd=[[0,np.inf] for i in range(4)]\n",
    "\n",
    "s=minimize(fun,np.random.rand(4),constraints=cons,bounds=bd)\n",
    "s"
   ]
  },
  {
   "cell_type": "markdown",
   "id": "e1ecc660-c6d7-47b9-80fc-739cc13f2cac",
   "metadata": {},
   "source": [
    "## 模型构建\n",
    "\n",
    "不妨设$x_{i,j}$表示第i个同学开始第j个流程的时间,\n",
    "$t_{i,j}$表示第i个同学完成第j个流程的时间,\n",
    "$y_{i,k}$表示第k个同学是否在第i个同学前面。\n",
    "\n",
    "$obj=min(max(x_{i,j}+t_{i,j}))$\n",
    "\n",
    "$ \n",
    "\\text{st} \\left\\{ \n",
    "\\begin{array}{l}\n",
    " x_{i,j}+t_{i,j}<=x_{i,j},\\\\\n",
    " x_{i,j}+t_{i,j}-x_{k,j}<=Ty_{i,k},\\\\\n",
    " x_{k,j}+t_{k,j}-x_{i,j}<=T(1-y_{i,k})\n",
    "\\end{array}\n",
    "\\right.\n",
    "$"
   ]
  },
  {
   "cell_type": "code",
   "execution_count": 5,
   "id": "855ffe3e-9298-4ce5-806e-fdf486da510f",
   "metadata": {},
   "outputs": [
    {
     "data": {
      "text/plain": [
       "(84.0,\n",
       " array([[ 8., 21., 36.],\n",
       "        [21., 36., 56.],\n",
       "        [31., 58., 74.],\n",
       "        [ 0.,  8., 21.]]),\n",
       " array([[-0., -0., -0.,  1.],\n",
       "        [ 1., -0., -0.,  1.],\n",
       "        [ 1.,  1., -0.,  1.],\n",
       "        [-0., -0., -0., -0.]]))"
      ]
     },
     "execution_count": 5,
     "metadata": {},
     "output_type": "execute_result"
    }
   ],
   "source": [
    "#3\n",
    "#实际上用cvxpy做\n",
    "from scipy.optimize import minimize\n",
    "import numpy as np\n",
    "import cvxpy as cp\n",
    "\n",
    "t=np.array([[13,15,20],\n",
    "           [10,20,18],\n",
    "           [20,16,10],\n",
    "           [8,10,15]])\n",
    "\n",
    "x=cp.Variable((4,3),pos=True)\n",
    "y=cp.Variable((4,4),integer=True)\n",
    "\n",
    "obj=cp.Minimize(cp.max(x[:,2]+t[:,2]))\n",
    "\n",
    "cons=[y>=0,y<=1]\n",
    "\n",
    "for i in range(4):\n",
    "    for j in range(2):\n",
    "        cons+=[x[i,j]+t[i,j]<=x[i,j+1]];\n",
    "\n",
    "for i in range(4):\n",
    "    for k in range(4):\n",
    "        if i!=k:\n",
    "            for j in range(3):\n",
    "                cons+=[x[i,j]+t[i,j]-x[k,j]<=y[i,k]*10000]#用一个极大数来线性化\n",
    "                cons+=[x[k,j]+t[k,j]-x[i,j]<=(1-y[i,k])*10000]\n",
    "\n",
    "s=cp.Problem(obj,cons)\n",
    "s.solve()\n",
    "s.value,x.value,y.value\n"
   ]
  },
  {
   "cell_type": "code",
   "execution_count": 6,
   "id": "d729dbc0-feb5-424a-a21d-436fadbf9df5",
   "metadata": {},
   "outputs": [
    {
     "data": {
      "text/plain": [
       " message: Optimization terminated successfully\n",
       " success: True\n",
       "  status: 0\n",
       "     fun: -57999.99999999992\n",
       "       x: [ 6.000e+00  1.000e+01]\n",
       "     nit: 6\n",
       "     jac: [-4.883e-04  0.000e+00]\n",
       "    nfev: 22\n",
       "    njev: 6"
      ]
     },
     "execution_count": 6,
     "metadata": {},
     "output_type": "execute_result"
    }
   ],
   "source": [
    "#4\n",
    "from scipy.optimize import minimize\n",
    "import numpy as np\n",
    "def fun(x):\n",
    "    return -((6000-500*x[0])*x[0]+(8000-400*x[1])*x[1])\n",
    "\n",
    "cons=[{'type':'ineq','fun':lambda x:15000-10*x[0]-20*x[1]},\n",
    "     {'type':'ineq','fun':lambda x:60-3/50*x[0]-1/20*x[1]},\n",
    "     {'type':'ineq','fun':lambda x:800-x[0]}]\n",
    "\n",
    "bd=[[0,np.inf] for i in range(2)]\n",
    "\n",
    "s=minimize(fun,np.random.rand(2),constraints=cons,bounds=bd)\n",
    "\n",
    "s\n"
   ]
  },
  {
   "cell_type": "code",
   "execution_count": null,
   "id": "74527fc7-ccd3-4935-8b9e-2cfe042836cf",
   "metadata": {},
   "outputs": [],
   "source": []
  }
 ],
 "metadata": {
  "kernelspec": {
   "display_name": "Python 3 (ipykernel)",
   "language": "python",
   "name": "python3"
  },
  "language_info": {
   "codemirror_mode": {
    "name": "ipython",
    "version": 3
   },
   "file_extension": ".py",
   "mimetype": "text/x-python",
   "name": "python",
   "nbconvert_exporter": "python",
   "pygments_lexer": "ipython3",
   "version": "3.11.7"
  }
 },
 "nbformat": 4,
 "nbformat_minor": 5
}
